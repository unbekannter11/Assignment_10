{
 "cells": [
  {
   "cell_type": "code",
   "execution_count": null,
   "id": "d68cf0c4",
   "metadata": {},
   "outputs": [],
   "source": [
    "age =(input(\"Are you a cigarette addict older than 75 years old? \"))\n",
    "if age.lower() == \"yes\":\n",
    "    age = True\n",
    "elif age.lower() == \"no\":\n",
    "    age = False\n",
    "else:\n",
    "    print(\"Please enter yes or no to questions\")\n",
    "\n",
    "\n",
    "chronic = (input(\"Do you have a severe chronic disease? \"))\n",
    "if chronic.lower() == \"yes\":\n",
    "    chronic = True\n",
    "elif chronic.lower() == \"no\":\n",
    "    chronic = False\n",
    "else:\n",
    "    print(\"Please enter yes or no to questions\")\n",
    "\n",
    "immune = (input(\"Is your immune system too weak? \"))\n",
    "if immune.lower() == \"yes\":\n",
    "    immune = True\n",
    "elif immune.lower() == \"no\":\n",
    "    immune = False\n",
    "else:\n",
    "    print(\"Please enter yes or no to questions\")\n",
    "\n",
    "    \n",
    "risk_of_death=  (chronic or immune) and (chronic or age) and (immune or age)\n",
    "\n",
    "if risk_of_death == True :\n",
    "    print(\"You are in risky group\"),\n",
    "elif risk_of_death == False :\n",
    "    print(\"You are not in risky group\")\n",
    "    \n",
    "    \n",
    "\n",
    "\n",
    "\n",
    "    "
   ]
  }
 ],
 "metadata": {
  "kernelspec": {
   "display_name": "Python 3",
   "language": "python",
   "name": "python3"
  },
  "language_info": {
   "codemirror_mode": {
    "name": "ipython",
    "version": 3
   },
   "file_extension": ".py",
   "mimetype": "text/x-python",
   "name": "python",
   "nbconvert_exporter": "python",
   "pygments_lexer": "ipython3",
   "version": "3.8.8"
  }
 },
 "nbformat": 4,
 "nbformat_minor": 5
}
